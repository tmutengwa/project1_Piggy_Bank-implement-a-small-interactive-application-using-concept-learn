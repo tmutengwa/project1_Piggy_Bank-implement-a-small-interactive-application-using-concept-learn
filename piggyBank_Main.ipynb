{
 "cells": [
  {
   "cell_type": "code",
   "execution_count": 1,
   "metadata": {},
   "outputs": [],
   "source": [
    "from piggyBank import Balance"
   ]
  },
  {
   "cell_type": "code",
   "execution_count": 1,
   "metadata": {},
   "outputs": [],
   "source": [
    "from piggyBank import Balance"
   ]
  },
  {
   "cell_type": "code",
   "execution_count": 2,
   "metadata": {},
   "outputs": [],
   "source": [
    "myBalance = Balance()"
   ]
  },
  {
   "cell_type": "code",
   "execution_count": 3,
   "metadata": {},
   "outputs": [
    {
     "name": "stdout",
     "output_type": "stream",
     "text": [
      "\n",
      " Your current balance is Rs 0\n"
     ]
    }
   ],
   "source": [
    "myBalance.show_balance()"
   ]
  },
  {
   "cell_type": "code",
   "execution_count": 4,
   "metadata": {
    "scrolled": true
   },
   "outputs": [
    {
     "name": "stdout",
     "output_type": "stream",
     "text": [
      "Enter amount to be Deposited: 1000\n",
      "\n",
      "Your updated balance is Rs 1000.0\n",
      "17-04-2019 10:55:55\n",
      "17-04-2019 10:55:55\n",
      "\n",
      "Transaction successful\n",
      "--------------------------------\n"
     ]
    }
   ],
   "source": [
    "myBalance.deposit()"
   ]
  },
  {
   "cell_type": "code",
   "execution_count": 5,
   "metadata": {},
   "outputs": [
    {
     "data": {
      "text/plain": [
       "1000.0"
      ]
     },
     "execution_count": 5,
     "metadata": {},
     "output_type": "execute_result"
    }
   ],
   "source": [
    "myBalance.balance"
   ]
  },
  {
   "cell_type": "code",
   "execution_count": 6,
   "metadata": {},
   "outputs": [
    {
     "name": "stdout",
     "output_type": "stream",
     "text": [
      "Enter amount to be Withdrawn: 300\n",
      "\n",
      "Your new balance is Rs 700.0\n",
      "17-04-2019 10:57:04\n",
      "17-04-2019 10:57:04\n",
      "--------------------------------\n"
     ]
    }
   ],
   "source": [
    "myBalance.withdraw()"
   ]
  },
  {
   "cell_type": "code",
   "execution_count": 8,
   "metadata": {},
   "outputs": [
    {
     "name": "stdout",
     "output_type": "stream",
     "text": [
      "Enter amount to be Withdrawn: 450\n",
      "\n",
      "Your new balance is Rs 250.0\n",
      "17-04-2019 10:58:11\n",
      "17-04-2019 10:58:11\n",
      "--------------------------------\n"
     ]
    }
   ],
   "source": [
    "myBalance.withdraw()"
   ]
  },
  {
   "cell_type": "code",
   "execution_count": 9,
   "metadata": {},
   "outputs": [
    {
     "name": "stdout",
     "output_type": "stream",
     "text": [
      "Enter amount to be Withdrawn: 171\n",
      "\n",
      "Sorry! Insufficient funds\n",
      "\n",
      "Your new balance is Rs 250.0\n",
      "17-04-2019 10:58:44\n",
      "17-04-2019 10:58:44\n",
      "--------------------------------\n"
     ]
    }
   ],
   "source": [
    "myBalance.withdraw()"
   ]
  },
  {
   "cell_type": "code",
   "execution_count": null,
   "metadata": {},
   "outputs": [],
   "source": []
  }
 ],
 "metadata": {
  "kernelspec": {
   "display_name": "Python 3",
   "language": "python",
   "name": "python3"
  },
  "language_info": {
   "codemirror_mode": {
    "name": "ipython",
    "version": 3
   },
   "file_extension": ".py",
   "mimetype": "text/x-python",
   "name": "python",
   "nbconvert_exporter": "python",
   "pygments_lexer": "ipython3",
   "version": "3.7.1"
  }
 },
 "nbformat": 4,
 "nbformat_minor": 2
}
