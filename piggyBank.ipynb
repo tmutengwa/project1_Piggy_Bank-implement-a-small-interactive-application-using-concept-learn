{
 "cells": [
  {
   "cell_type": "markdown",
   "metadata": {},
   "source": [
    "## PIGGY BANK PROJECT"
   ]
  },
  {
   "cell_type": "code",
   "execution_count": null,
   "metadata": {},
   "outputs": [],
   "source": [
    "import datetime\n",
    "\n",
    "class Balance:\n",
    "    \n",
    "    \n",
    "    def __init__(self):\n",
    "        self.balance = 0\n",
    "        self.minimum_balance = 100\n",
    "        self.log = {}\n",
    "        \n",
    "                \n",
    "    def deposit(self): \n",
    "        amount = float(input(\"Enter amount to be Deposited: \")) \n",
    "        self.balance += amount\n",
    "        print(\"\\nYour updated balance is Rs\",amount)\n",
    "        self.eventLog(\"amount\",\"deposit\")\n",
    "        \n",
    "        \n",
    "    def withdraw(self):\n",
    "        amount = float(input(\"Enter amount to be Withdrawn: \"))\n",
    "        if self.balance - amount < self.minimum_balance:\n",
    "            print(\"\\nSorry! Insufficient funds\")\n",
    "        else:\n",
    "            self.balance -= amount \n",
    "        print(\"\\nYour new balance is Rs\",self.balance)\n",
    "        self.eventLog(\"amount\",\"withdrawal\")     \n",
    "                   \n",
    "    def show_balance(self):\n",
    "        print(\"\\n Your current balance is Rs\", self.balance)\n",
    "        \n",
    "    def eventLog(self,amount,action):\n",
    "        \n",
    "        now = datetime.datetime.now()\n",
    "        sysTime = print(now.strftime(\"%d-%m-%Y %H:%M:%S\"))\n",
    "        logTime = print(now.strftime(\"%d-%m-%Y %H:%M:%S\"))\n",
    "        if action == \"deposit\":\n",
    "            log = str(sysTime) + \": Deposited $\" + str(amount)\n",
    "            self.log[logTime] = log\n",
    "            print(\"\\nTransaction successful\")\n",
    "            \n",
    "        if action == \"Withdrawal\":\n",
    "            log = str(sysTime) + \": Withdrew $\" + str(amount)\n",
    "            self.log[logTime] = log\n",
    "            print(\"\\nTransaction successful\")\n",
    "                    \n",
    "        else:\n",
    "            print(\"--------------------------------\")\n",
    "            \n",
    "                                                \n",
    "    def clear(self):\n",
    "        self.log = {}\n",
    "        print(\"\\n LOG CLEARED\")"
   ]
  }
 ],
 "metadata": {
  "kernelspec": {
   "display_name": "Python 3",
   "language": "python",
   "name": "python3"
  },
  "language_info": {
   "codemirror_mode": {
    "name": "ipython",
    "version": 3
   },
   "file_extension": ".py",
   "mimetype": "text/x-python",
   "name": "python",
   "nbconvert_exporter": "python",
   "pygments_lexer": "ipython3",
   "version": "3.7.1"
  }
 },
 "nbformat": 4,
 "nbformat_minor": 2
}
